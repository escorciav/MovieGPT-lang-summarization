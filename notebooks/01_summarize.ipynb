{
 "cells": [
  {
   "cell_type": "markdown",
   "id": "d9a0131f",
   "metadata": {},
   "source": [
    "# Summarization\n",
    "\n",
    "This notebook walks through how to use LangChain for summarization over a list of documents. It covers three different chain types: `stuff`, `map_reduce`, and `refine`. For a more in depth explanation of what these chain types are, see [here](https://docs.langchain.com/docs/components/chains/index_related_chains)."
   ]
  },
  {
   "cell_type": "markdown",
   "id": "0b5660bf",
   "metadata": {},
   "source": [
    "## Prepare Data\n",
    "First we prepare the data. For this example we create multiple documents from one long one, but these documents could be fetched in any manner (the point of this notebook to highlight what to do AFTER you fetch the documents)."
   ]
  },
  {
   "cell_type": "code",
   "execution_count": 1,
   "id": "e9db25f3",
   "metadata": {},
   "outputs": [],
   "source": [
    "import config\n",
    "from langchain import OpenAI, PromptTemplate, LLMChain\n",
    "from langchain.text_splitter import CharacterTextSplitter\n",
    "from langchain.chains.mapreduce import MapReduceChain\n",
    "from langchain.prompts import PromptTemplate\n",
    "\n",
    "llm = OpenAI(temperature=0)\n",
    "\n",
    "text_splitter = CharacterTextSplitter()"
   ]
  },
  {
   "cell_type": "code",
   "execution_count": 2,
   "id": "99bbe19b",
   "metadata": {},
   "outputs": [],
   "source": [
    "with open(\"assets/movierecaps000.txt\") as f:\n",
    "    state_of_the_union = f.read()\n",
    "texts = text_splitter.split_text(state_of_the_union)"
   ]
  },
  {
   "cell_type": "code",
   "execution_count": 3,
   "id": "0d0656fe",
   "metadata": {},
   "outputs": [
    {
     "name": "stdout",
     "output_type": "stream",
     "text": [
      "(\"<0.0>  Hey, what's up guys! <8.0>  Today I'll show you an action thriller \"\n",
      " 'film, Venom Part 2, Let There Be Carnage. <13.08>  Spoiler ahead, watch out '\n",
      " 'and take care! <15.76>  The movie begins in 1996 with two young lovers, '\n",
      " 'Cletus and Francis, living at a reform school <21.48>  in California. '\n",
      " '<22.66>  Their rooms are directly above each other, and they use a pipe to '\n",
      " \"communicate with one <26.240000000000002>  another. <27.24>  As Francis' \"\n",
      " 'ultrasonic power grows stronger, the school sends her to a top-secret '\n",
      " 'institute <31.799999999999997>  to lock her powers forever. <33.6>  From the '\n",
      " 'window, Cletus angrily watches as the police drag Francis into a van guarded '\n",
      " '<38.26>  by a detective. <39.72>  During the trip, Francis shouts loud '\n",
      " \"enough to damage detective's left ear. <43.68>  The van falls sideward when \"\n",
      " 'Francis tries to grab the gun from detective, but he shoots '\n",
      " '<48.239999999999995>  her first to stop her escape. <50.28>  The bullets '\n",
      " \"impact, knocks Francis onto the street, and detective thinks she's dead. \"\n",
      " '<55.0>  However, Francis wakes up the next day, but is locked up in a thick '\n",
      " 'glass cage, placed <59.16>  inside a soundproof room which is strong enough '\n",
      " 'to withstand her power. <63.019999999999996>  The psychiatrist welcomes her '\n",
      " 'arrival and introduces the institution as her new home. <67.64>  Twenty-five '\n",
      " 'years later, Francis reads the newspapers delivered by the psychiatrist, '\n",
      " '<71.84>  which states that Cletus will be convicted of death once the FBI '\n",
      " 'locates the missing <76.28>  bodies of the people he murdered. <78.2>  '\n",
      " \"Meanwhile, detective summons Eddie to the police station to tackle Cletus' \"\n",
      " 'special <82.16>  request to see him. <84.18>  Detective reckons Cletus might '\n",
      " 'reveal the location of the missing buried bodies he murdered '\n",
      " \"<88.24000000000001>  if Eddie visited him, but Eddie's reluctant to accept \"\n",
      " 'the invitation. <92.32000000000001>  Detective expects Eddie to do the right '\n",
      " 'thing, and then leaves him behind to consider the <95.96000000000001>  '\n",
      " 'invite. <96.96000000000001>  Suddenly, Venom sprouts behind Eddie, trying to '\n",
      " \"bite off detective's head, but Eddie <100.92000000000002>  quickly drags \"\n",
      " 'Venom into the bathroom. <103.32000000000001>  Eddie asks Venom to respect '\n",
      " 'his occupation, and yet Venom only wants to provoke Eddie <108.04>  again, '\n",
      " 'who fears this opportunity would blow up in his face again, just like last '\n",
      " 'time <112.34>  with Anne. <113.34>  In the end, Eddie accepts the chance to '\n",
      " 'interview Cletus in the prison. <117.04>  The next day, Eddie meets Cletus '\n",
      " 'in his cage, demanding why he wants to see him. <121.72>  Cletus knows his '\n",
      " 'story sells, so he wants Eddie to publish his little poem first, in '\n",
      " '<126.12>  exchange for his exclusive story told by himself. <129.44>  Eddie '\n",
      " 'bites the offer and writes the message that Cletus wants to share. '\n",
      " '<133.48000000000002>  Eddie then asks whom the message is for, and Cletus '\n",
      " 'simply answers to follow his request. <139.1>  Eddie is about to leave until '\n",
      " \"Venom stops him to look at the carvings in Cletus' bedroom. <143.72>  The \"\n",
      " 'room shows a cathedral, writings on a tree trunk, and a beach with crosses. '\n",
      " '<148.07999999999998>  Afterward, Eddie meets Detective outside the station '\n",
      " 'to fill in the scoop he learned from <152.48>  Cletus. <153.48>  However, '\n",
      " 'Detective thinks Eddie is joking after hearing Cletus only gave a poem. '\n",
      " '<158.07999999999998>  Nevertheless, Eddie answers he needs more time to deal '\n",
      " 'with Cletus before they actually <162.07999999999998>  obtain useful '\n",
      " 'information. <163.85999999999999>  At night, Eddie goes home, and Venom '\n",
      " \"deciphers the carvings in Cletus' cell room. <168.8>  Poem first draws on \"\n",
      " 'each paper, the cathedral, the tree beside a house, and a beach with '\n",
      " '<173.26000000000002>  crosses on the corner. <174.72>  Next, he types Rodeo '\n",
      " 'Beach on the search bar, and the beach image matches perfectly with '\n",
      " \"<179.18>  Venom's imitation of Cletus' beach carving. <181.92000000000002>  \"\n",
      " 'The following day, Eddie pinpoints the missing buried bodies at Rodeo Beach '\n",
      " 'to the police. <186.92000000000002>  After decades of searching by the '\n",
      " 'police and FBI, Eddie solved the case overnight. <191.4>')\n"
     ]
    }
   ],
   "source": [
    "import pprint\n",
    "type(texts), len(texts)\n",
    "pprint.pprint(texts[0], width=80, indent=0)"
   ]
  },
  {
   "cell_type": "code",
   "execution_count": 4,
   "id": "baa6e808",
   "metadata": {},
   "outputs": [],
   "source": [
    "from langchain.docstore.document import Document\n",
    "\n",
    "docs = [Document(page_content=t) for t in texts[:3]]"
   ]
  },
  {
   "cell_type": "code",
   "execution_count": 5,
   "id": "648f6740",
   "metadata": {},
   "outputs": [
    {
     "name": "stdout",
     "output_type": "stream",
     "text": [
      "<class 'langchain.schema.Document'>\n"
     ]
    },
    {
     "data": {
      "text/plain": [
       "Document(page_content=\"<0.0>  Hey, what's up guys! <8.0>  Today I'll show you an action thriller film, Venom Part 2, Let There Be Carnage. <13.08>  Spoiler ahead, watch out and take care! <15.76>  The movie begins in 1996 with two young lovers, Cletus and Francis, living at a reform school <21.48>  in California. <22.66>  Their rooms are directly above each other, and they use a pipe to communicate with one <26.240000000000002>  another. <27.24>  As Francis' ultrasonic power grows stronger, the school sends her to a top-secret institute <31.799999999999997>  to lock her powers forever. <33.6>  From the window, Cletus angrily watches as the police drag Francis into a van guarded <38.26>  by a detective. <39.72>  During the trip, Francis shouts loud enough to damage detective's left ear. <43.68>  The van falls sideward when Francis tries to grab the gun from detective, but he shoots <48.239999999999995>  her first to stop her escape. <50.28>  The bullets impact, knocks Francis onto the street, and detective thinks she's dead. <55.0>  However, Francis wakes up the next day, but is locked up in a thick glass cage, placed <59.16>  inside a soundproof room which is strong enough to withstand her power. <63.019999999999996>  The psychiatrist welcomes her arrival and introduces the institution as her new home. <67.64>  Twenty-five years later, Francis reads the newspapers delivered by the psychiatrist, <71.84>  which states that Cletus will be convicted of death once the FBI locates the missing <76.28>  bodies of the people he murdered. <78.2>  Meanwhile, detective summons Eddie to the police station to tackle Cletus' special <82.16>  request to see him. <84.18>  Detective reckons Cletus might reveal the location of the missing buried bodies he murdered <88.24000000000001>  if Eddie visited him, but Eddie's reluctant to accept the invitation. <92.32000000000001>  Detective expects Eddie to do the right thing, and then leaves him behind to consider the <95.96000000000001>  invite. <96.96000000000001>  Suddenly, Venom sprouts behind Eddie, trying to bite off detective's head, but Eddie <100.92000000000002>  quickly drags Venom into the bathroom. <103.32000000000001>  Eddie asks Venom to respect his occupation, and yet Venom only wants to provoke Eddie <108.04>  again, who fears this opportunity would blow up in his face again, just like last time <112.34>  with Anne. <113.34>  In the end, Eddie accepts the chance to interview Cletus in the prison. <117.04>  The next day, Eddie meets Cletus in his cage, demanding why he wants to see him. <121.72>  Cletus knows his story sells, so he wants Eddie to publish his little poem first, in <126.12>  exchange for his exclusive story told by himself. <129.44>  Eddie bites the offer and writes the message that Cletus wants to share. <133.48000000000002>  Eddie then asks whom the message is for, and Cletus simply answers to follow his request. <139.1>  Eddie is about to leave until Venom stops him to look at the carvings in Cletus' bedroom. <143.72>  The room shows a cathedral, writings on a tree trunk, and a beach with crosses. <148.07999999999998>  Afterward, Eddie meets Detective outside the station to fill in the scoop he learned from <152.48>  Cletus. <153.48>  However, Detective thinks Eddie is joking after hearing Cletus only gave a poem. <158.07999999999998>  Nevertheless, Eddie answers he needs more time to deal with Cletus before they actually <162.07999999999998>  obtain useful information. <163.85999999999999>  At night, Eddie goes home, and Venom deciphers the carvings in Cletus' cell room. <168.8>  Poem first draws on each paper, the cathedral, the tree beside a house, and a beach with <173.26000000000002>  crosses on the corner. <174.72>  Next, he types Rodeo Beach on the search bar, and the beach image matches perfectly with <179.18>  Venom's imitation of Cletus' beach carving. <181.92000000000002>  The following day, Eddie pinpoints the missing buried bodies at Rodeo Beach to the police. <186.92000000000002>  After decades of searching by the police and FBI, Eddie solved the case overnight. <191.4>\", metadata={})"
      ]
     },
     "execution_count": 5,
     "metadata": {},
     "output_type": "execute_result"
    }
   ],
   "source": [
    "print(type(docs[0]))\n",
    "aja = docs[0]\n",
    "aja"
   ]
  },
  {
   "cell_type": "code",
   "execution_count": 6,
   "id": "27989fc4",
   "metadata": {},
   "outputs": [],
   "source": [
    "from langchain.chains.summarize import load_summarize_chain"
   ]
  },
  {
   "cell_type": "markdown",
   "id": "21284c47",
   "metadata": {},
   "source": [
    "## Quickstart\n",
    "If you just want to get started as quickly as possible, this is the recommended way to do it:"
   ]
  },
  {
   "cell_type": "code",
   "execution_count": 8,
   "id": "5cfa89b2",
   "metadata": {},
   "outputs": [
    {
     "data": {
      "text/plain": [
       "' Two lovers, Cletus and Francis, are separated when Francis is taken away to a secret institute. 25 years later, Eddie is asked to visit Cletus in prison and discovers carvings in his cell room. With the help of Venom, Eddie is able to locate the missing bodies at Rodeo Beach, solving the case.'"
      ]
     },
     "execution_count": 8,
     "metadata": {},
     "output_type": "execute_result"
    }
   ],
   "source": [
    "chain = load_summarize_chain(llm, chain_type=\"map_reduce\")\n",
    "summary = chain.run(docs)\n",
    "pprint.pprint(summary, width=80, indent=0)"
   ]
  },
  {
   "cell_type": "markdown",
   "id": "1bc784bd",
   "metadata": {},
   "source": [
    "If you want more control and understanding over what is happening, please see the information below."
   ]
  },
  {
   "cell_type": "markdown",
   "id": "ea2d5c99",
   "metadata": {},
   "source": [
    "## The `stuff` Chain\n",
    "\n",
    "This sections shows results of using the `stuff` Chain to do summarization."
   ]
  },
  {
   "cell_type": "code",
   "execution_count": 9,
   "id": "f01f3196",
   "metadata": {},
   "outputs": [],
   "source": [
    "chain = load_summarize_chain(llm, chain_type=\"stuff\")"
   ]
  },
  {
   "cell_type": "code",
   "execution_count": 10,
   "id": "da4d9801",
   "metadata": {},
   "outputs": [
    {
     "data": {
      "text/plain": [
       "\" In Venom Part 2, Let There Be Carnage, two young lovers, Cletus and Francis, are separated when Francis is taken to a top-secret institute to lock her powers away. Twenty-five years later, Cletus is about to be convicted of murder and Eddie is asked to visit him in prison. Eddie discovers carvings in Cletus' cell room and, with the help of Venom, is able to pinpoint the location of the missing buried bodies at Rodeo Beach, solving the case overnight.\""
      ]
     },
     "execution_count": 10,
     "metadata": {},
     "output_type": "execute_result"
    }
   ],
   "source": [
    "summary = chain.run(docs)\n",
    "pprint.pprint(summary, width=80, indent=0)"
   ]
  },
  {
   "cell_type": "markdown",
   "id": "42b6d8ae",
   "metadata": {},
   "source": [
    "**Custom Prompts**\n",
    "\n",
    "You can also use your own prompts with this chain. In this example, we will respond in Italian."
   ]
  },
  {
   "cell_type": "code",
   "execution_count": 11,
   "id": "71dc4212",
   "metadata": {},
   "outputs": [
    {
     "name": "stdout",
     "output_type": "stream",
     "text": [
      "('\\n'\n",
      " '\\n'\n",
      " 'Two young lovers, Cletus and Francis, living at a reform school in '\n",
      " 'California have their lives changed when Francis is sent to a top-secret '\n",
      " 'institute to lock her powers forever. Twenty-five years later, Cletus is '\n",
      " 'convicted of death and Eddie is asked to visit him in prison. Eddie '\n",
      " \"discovers Cletus' carvings in his cell room and Venom deciphers them to be a \"\n",
      " 'poem and a location. Eddie pinpoints the missing buried bodies at Rodeo '\n",
      " 'Beach to the police, solving the case overnight.')\n"
     ]
    }
   ],
   "source": [
    "prompt_template = \"\"\"Write a concise summary of the following:\n",
    "\n",
    "\n",
    "{text}\n",
    "\n",
    "\n",
    "CONCISE WHILE RETAINING TIMESTAMPT DELIMITER <> OF THE TEXT:\"\"\"\n",
    "PROMPT = PromptTemplate(template=prompt_template, input_variables=[\"text\"])\n",
    "chain = load_summarize_chain(llm, chain_type=\"stuff\", prompt=PROMPT)\n",
    "summary = chain.run(docs)\n",
    "pprint.pprint(summary, width=80, indent=0)"
   ]
  },
  {
   "cell_type": "markdown",
   "id": "9c868e86",
   "metadata": {},
   "source": [
    "## The `map_reduce` Chain\n",
    "\n",
    "This sections shows results of using the `map_reduce` Chain to do summarization."
   ]
  },
  {
   "cell_type": "code",
   "execution_count": 12,
   "id": "ef28e1d4",
   "metadata": {},
   "outputs": [],
   "source": [
    "chain = load_summarize_chain(llm, chain_type=\"map_reduce\")"
   ]
  },
  {
   "cell_type": "code",
   "execution_count": 13,
   "id": "f82c5f9f",
   "metadata": {},
   "outputs": [
    {
     "name": "stdout",
     "output_type": "stream",
     "text": [
      "(' Two lovers, Cletus and Francis, are separated when Francis is taken away to '\n",
      " 'a secret institute. 25 years later, Eddie is asked to visit Cletus in prison '\n",
      " 'and discovers carvings in his cell room. With the help of Venom, Eddie is '\n",
      " 'able to locate the missing bodies at Rodeo Beach, solving the case.')\n"
     ]
    }
   ],
   "source": [
    "summary = chain.run(docs)\n",
    "pprint.pprint(summary, width=80, indent=0)"
   ]
  },
  {
   "cell_type": "markdown",
   "id": "d0c2a6d3",
   "metadata": {},
   "source": [
    "**Intermediate Steps**\n",
    "\n",
    "We can also return the intermediate steps for `map_reduce` chains, should we want to inspect them. This is done with the `return_map_steps` variable."
   ]
  },
  {
   "cell_type": "code",
   "execution_count": 14,
   "id": "d9cfc24e",
   "metadata": {},
   "outputs": [],
   "source": [
    "chain = load_summarize_chain(OpenAI(temperature=0), chain_type=\"map_reduce\", return_intermediate_steps=True)"
   ]
  },
  {
   "cell_type": "code",
   "execution_count": 15,
   "id": "c7dff5e8",
   "metadata": {},
   "outputs": [
    {
     "data": {
      "text/plain": [
       "{'intermediate_steps': [\" In Venom Part 2, Let There Be Carnage, two young lovers, Cletus and Francis, are separated when Francis is taken to a top-secret institute to lock her powers away. Twenty-five years later, Cletus is about to be convicted of murder and Eddie is asked to visit him in prison. Eddie discovers carvings in Cletus' cell room and, with the help of Venom, is able to pinpoint the location of the missing buried bodies at Rodeo Beach, solving the case overnight.\"],\n",
       " 'output_text': ' Two lovers, Cletus and Francis, are separated when Francis is taken away to a secret institute. 25 years later, Eddie is asked to visit Cletus in prison and discovers carvings in his cell room. With the help of Venom, Eddie is able to locate the missing bodies at Rodeo Beach, solving the case.'}"
      ]
     },
     "execution_count": 15,
     "metadata": {},
     "output_type": "execute_result"
    }
   ],
   "source": [
    "out = chain({\"input_documents\": docs}, return_only_outputs=True)\n",
    "pprint.pprint(out['intermediate_steps'], width=80, indent=1)\n",
    "pprint.pprint(out['output_text'], width=80, indent=0)"
   ]
  },
  {
   "cell_type": "markdown",
   "id": "255c8993",
   "metadata": {},
   "source": [
    "**Custom Prompts**\n",
    "\n",
    "You can also use your own prompts with this chain. In this example, we will respond in Italian."
   ]
  },
  {
   "cell_type": "code",
   "execution_count": 19,
   "id": "b65d5069",
   "metadata": {},
   "outputs": [
    {
     "name": "stdout",
     "output_type": "stream",
     "text": [
      "['\\n'\n",
      "'\\n'\n",
      "'Two young lovers, Cletus and Francis, living at a reform school in California '\n",
      "'have their lives changed when Francis is sent to a top-secret institute to '\n",
      "'lock her powers forever. Twenty-five years later, Cletus is convicted of '\n",
      "\"death and Eddie is asked to visit him in prison. Eddie discovers Cletus' \"\n",
      "'carvings in his cell room and Venom deciphers them to be a poem and a beach. '\n",
      "'Eddie pinpoints the missing buried bodies at Rodeo Beach to the police, '\n",
      "'solving the case overnight.']\n",
      "('\\n'\n",
      " '\\n'\n",
      " 'Two young lovers, Cletus and Francis, living at a reform school in '\n",
      " 'California have their lives changed when Francis is sent away. Twenty-five '\n",
      " 'years later, Cletus is convicted of death and Eddie is asked to visit him in '\n",
      " \"prison. Eddie discovers Cletus' carvings in his cell room and Venom \"\n",
      " 'deciphers them to be a poem and a beach. Eddie pinpoints the missing buried '\n",
      " 'bodies at Rodeo Beach to the police, solving the case overnight <>')\n"
     ]
    }
   ],
   "source": [
    "prompt_template = \"\"\"Write a concise summary of the following:\n",
    "\n",
    "\n",
    "{text}\n",
    "\n",
    "\n",
    "CONCISE WHILE RETAINING TIMESTAMPT DELIMITER <> OF THE TEXT:\"\"\"\n",
    "PROMPT = PromptTemplate(template=prompt_template, input_variables=[\"text\"])\n",
    "chain = load_summarize_chain(OpenAI(temperature=0), chain_type=\"map_reduce\", return_intermediate_steps=True, map_prompt=PROMPT, combine_prompt=PROMPT)\n",
    "out = chain({\"input_documents\": docs}, return_only_outputs=True)\n",
    "pprint.pprint(out['intermediate_steps'], width=80, indent=0)\n",
    "pprint.pprint(out['output_text'], width=80, indent=0)"
   ]
  },
  {
   "cell_type": "markdown",
   "id": "f61350f9",
   "metadata": {},
   "source": [
    "## The `refine` Chain\n",
    "\n",
    "This sections shows results of using the `refine` Chain to do summarization."
   ]
  },
  {
   "cell_type": "code",
   "execution_count": 20,
   "id": "3bcbe31e",
   "metadata": {},
   "outputs": [
    {
     "name": "stdout",
     "output_type": "stream",
     "text": [
      "(' In Venom Part 2, Let There Be Carnage, two young lovers, Cletus and '\n",
      " 'Francis, are separated when Francis is taken to a top-secret institute to '\n",
      " 'lock her powers away. Twenty-five years later, Cletus is about to be '\n",
      " 'convicted of murder and Eddie is asked to visit him in prison. Eddie '\n",
      " \"discovers carvings in Cletus' cell room and, with the help of Venom, is able \"\n",
      " 'to pinpoint the location of the missing buried bodies at Rodeo Beach, '\n",
      " 'solving the case overnight.')\n"
     ]
    }
   ],
   "source": [
    "chain = load_summarize_chain(llm, chain_type=\"refine\")\n",
    "\n",
    "summary = chain.run(docs)\n",
    "pprint.pprint(summary, width=80, indent=0)"
   ]
  },
  {
   "cell_type": "markdown",
   "id": "84e9567e",
   "metadata": {},
   "source": [
    "**Intermediate Steps**\n",
    "\n",
    "We can also return the intermediate steps for `refine` chains, should we want to inspect them. This is done with the `return_refine_steps` variable."
   ]
  },
  {
   "cell_type": "code",
   "execution_count": 21,
   "id": "cd49ac4d",
   "metadata": {},
   "outputs": [
    {
     "name": "stdout",
     "output_type": "stream",
     "text": [
      "[' In Venom Part 2, Let There Be Carnage, two young lovers, Cletus and Francis, '\n",
      "'are separated when Francis is taken to a top-secret institute to lock her '\n",
      "'powers away. Twenty-five years later, Cletus is about to be convicted of '\n",
      "'murder and Eddie is asked to visit him in prison. Eddie discovers carvings in '\n",
      "\"Cletus' cell room and, with the help of Venom, is able to pinpoint the \"\n",
      "'location of the missing buried bodies at Rodeo Beach, solving the case '\n",
      "'overnight.']\n",
      "(' In Venom Part 2, Let There Be Carnage, two young lovers, Cletus and '\n",
      " 'Francis, are separated when Francis is taken to a top-secret institute to '\n",
      " 'lock her powers away. Twenty-five years later, Cletus is about to be '\n",
      " 'convicted of murder and Eddie is asked to visit him in prison. Eddie '\n",
      " \"discovers carvings in Cletus' cell room and, with the help of Venom, is able \"\n",
      " 'to pinpoint the location of the missing buried bodies at Rodeo Beach, '\n",
      " 'solving the case overnight.')\n"
     ]
    }
   ],
   "source": [
    "chain = load_summarize_chain(OpenAI(temperature=0), chain_type=\"refine\", return_intermediate_steps=True)\n",
    "\n",
    "out = chain({\"input_documents\": docs}, return_only_outputs=True)\n",
    "pprint.pprint(out['intermediate_steps'], width=80, indent=0)\n",
    "pprint.pprint(out['output_text'], width=80, indent=0)"
   ]
  },
  {
   "cell_type": "markdown",
   "id": "822be0d2",
   "metadata": {},
   "source": [
    "**Custom Prompts**\n",
    "\n",
    "You can also use your own prompts with this chain. In this example, we will respond in Italian."
   ]
  },
  {
   "cell_type": "code",
   "execution_count": 22,
   "id": "ffe37bec",
   "metadata": {},
   "outputs": [
    {
     "name": "stdout",
     "output_type": "stream",
     "text": [
      "['\\n'\n",
      "'\\n'\n",
      "'In Venom Part 2: Let There Be Carnage, two young lovers, Cletus and Francis, '\n",
      "'living at a reform school in California, have their rooms directly above each '\n",
      "\"other and use a pipe to communicate. Francis' ultrasonic power grows stronger \"\n",
      "'and the school sends her to a top-secret institute to lock her powers '\n",
      "'forever. During the trip, Francis shouts loud enough to damage the '\n",
      "\"detective's left ear and tries to grab the gun from him, but he shoots her \"\n",
      "'first. Francis wakes up the next day, but is locked up in a thick glass cage. '\n",
      "'Twenty-five years later, Cletus is convicted of death once the FBI locates '\n",
      "'the missing bodies of the people he murdered. Detective summons Eddie to the '\n",
      "\"police station to tackle Cletus' special request to see him. Eddie is \"\n",
      "'reluctant to accept the invitation, but Venom sprouts behind him and Eddie '\n",
      "'quickly drags Venom into the bathroom. Eddie meets Cletus in his cage and '\n",
      "'Cletus knows his story sells, so he wants Eddie to publish his little poem '\n",
      "'first, in exchange for his exclusive story. Eddie writes the message that '\n",
      "\"Cletus wants to share and Venom deciphers the carvings in Cletus' cell room. \"\n",
      "'Eddie pinpoints the missing buried bodies at']\n",
      "('\\n'\n",
      " '\\n'\n",
      " 'In Venom Part 2: Let There Be Carnage, two young lovers, Cletus and Francis, '\n",
      " 'living at a reform school in California, have their rooms directly above '\n",
      " \"each other and use a pipe to communicate. Francis' ultrasonic power grows \"\n",
      " 'stronger and the school sends her to a top-secret institute to lock her '\n",
      " 'powers forever. During the trip, Francis shouts loud enough to damage the '\n",
      " \"detective's left ear and tries to grab the gun from him, but he shoots her \"\n",
      " 'first. Francis wakes up the next day, but is locked up in a thick glass '\n",
      " 'cage. Twenty-five years later, Cletus is convicted of death once the FBI '\n",
      " 'locates the missing bodies of the people he murdered. Detective summons '\n",
      " \"Eddie to the police station to tackle Cletus' special request to see him. \"\n",
      " 'Eddie is reluctant to accept the invitation, but Venom sprouts behind him '\n",
      " 'and Eddie quickly drags Venom into the bathroom. Eddie meets Cletus in his '\n",
      " 'cage and Cletus knows his story sells, so he wants Eddie to publish his '\n",
      " 'little poem first, in exchange for his exclusive story. Eddie writes the '\n",
      " 'message that Cletus wants to share and Venom deciphers the carvings in '\n",
      " \"Cletus' cell room. Eddie pinpoints the missing buried bodies at\")\n"
     ]
    }
   ],
   "source": [
    "prompt_template = \"\"\"Write a concise summary of the following:\n",
    "\n",
    "\n",
    "{text}\n",
    "\n",
    "\n",
    "RETAINING TIMESTAMPT DELIMITER MARKED WITH <number.number>, for example you will find <0.0>:\"\"\"\n",
    "PROMPT = PromptTemplate(template=prompt_template, input_variables=[\"text\"])\n",
    "refine_template = (\n",
    "    \"Your job is to produce a final summary\\n\"\n",
    "    \"We have provided an existing summary up to a certain point: {existing_answer}\\n\"\n",
    "    \"We have the opportunity to refine the existing summary\"\n",
    "    \"(only if needed) with some more context below.\\n\"\n",
    "    \"------------\\n\"\n",
    "    \"{text}\\n\"\n",
    "    \"------------\\n\"\n",
    "    \"Given the new context, refine the original summary.\"\n",
    "    \"If the context isn't useful, return the original summary.\"\n",
    ")\n",
    "refine_prompt = PromptTemplate(\n",
    "    input_variables=[\"existing_answer\", \"text\"],\n",
    "    template=refine_template,\n",
    ")\n",
    "chain = load_summarize_chain(OpenAI(temperature=0), chain_type=\"refine\", return_intermediate_steps=True, question_prompt=PROMPT, refine_prompt=refine_prompt)\n",
    "out = chain({\"input_documents\": docs}, return_only_outputs=True)\n",
    "pprint.pprint(out['intermediate_steps'], width=80, indent=0)\n",
    "pprint.pprint(out['output_text'], width=80, indent=0)"
   ]
  },
  {
   "cell_type": "code",
   "execution_count": 24,
   "id": "2ce671f6",
   "metadata": {},
   "outputs": [
    {
     "name": "stdout",
     "output_type": "stream",
     "text": [
      "('\\n'\n",
      " '\\n'\n",
      " 'In Venom Part 2: Let There Be Carnage, two young lovers, Cletus and Francis, '\n",
      " 'living at a reform school in California, have their rooms directly above '\n",
      " \"each other and use a pipe to communicate. Francis' ultrasonic power grows \"\n",
      " 'stronger and the school sends her to a top-secret institute to lock her '\n",
      " 'powers forever. During the trip, Francis shouts loud enough to damage the '\n",
      " \"detective's left ear and tries to grab the gun from him, but he shoots her \"\n",
      " 'first. Francis wakes up the next day, but is locked up in a thick glass '\n",
      " 'cage. Twenty-five years later, Cletus is convicted of death once the FBI '\n",
      " 'locates the missing bodies of the people he murdered. Detective summons '\n",
      " \"Eddie to the police station to tackle Cletus' special request to see him. \"\n",
      " 'Eddie is reluctant to accept the invitation, but Venom sprouts behind him '\n",
      " 'and Eddie quickly drags Venom into the bathroom. Eddie meets Cletus in his '\n",
      " 'cage and Cletus knows his story sells, so he wants Eddie to publish his '\n",
      " 'little poem first, in exchange for his exclusive story. Eddie writes the '\n",
      " 'message that Cletus wants to share and Venom deciphers the carvings in '\n",
      " \"Cletus' cell room. Eddie pinpoints the missing buried bodies at\")\n"
     ]
    }
   ],
   "source": [
    "pprint.pprint(out['output_text'], width=80, indent=0)"
   ]
  }
 ],
 "metadata": {
  "kernelspec": {
   "display_name": "Python 3 (ipykernel)",
   "language": "python",
   "name": "python3"
  },
  "language_info": {
   "codemirror_mode": {
    "name": "ipython",
    "version": 3
   },
   "file_extension": ".py",
   "mimetype": "text/x-python",
   "name": "python",
   "nbconvert_exporter": "python",
   "pygments_lexer": "ipython3",
   "version": "3.10.10"
  },
  "vscode": {
   "interpreter": {
    "hash": "b1677b440931f40d89ef8be7bf03acb108ce003de0ac9b18e8d43753ea2e7103"
   }
  }
 },
 "nbformat": 4,
 "nbformat_minor": 5
}
