{
 "cells": [
  {
   "cell_type": "code",
   "execution_count": 6,
   "metadata": {},
   "outputs": [],
   "source": [
    "import config\n",
    "response = config.openai.Model.list()\n",
    "model_ids = [i['id'] for i in response['data']]\n",
    "# filter model_ids starting with text-davinci, gpt or contining \"turbo\"\n",
    "model_ids = [i for i in model_ids if i.startswith('text-davinci') or i.startswith('gpt') or 'turbo' in i]\n",
    "print(model_ids)"
   ]
  },
  {
   "cell_type": "code",
   "execution_count": 20,
   "metadata": {},
   "outputs": [
    {
     "name": "stdout",
     "output_type": "stream",
     "text": [
      "['text-davinci-edit-001', 'gpt-3.5-turbo-0301', 'text-davinci-001', 'text-davinci-003', 'gpt-3.5-turbo', 'text-davinci-002', 'text-davinci:001']\n"
     ]
    }
   ],
   "source": [
    "model_ids = [i for i in model_ids if i.startswith('text-davinci') or i.startswith('gpt') or 'turbo' in i]\n",
    "print(model_ids)"
   ]
  },
  {
   "cell_type": "code",
   "execution_count": 3,
   "metadata": {},
   "outputs": [
    {
     "name": "stdout",
     "output_type": "stream",
     "text": [
      "Sample text:\n",
      "(\"<0.0>  Hey, what's up guys! <8.0>  Today I'll show you an action thriller \"\n",
      " 'film, Venom Part 2, Let There Be Carnage. <13.08>  Spoiler ahead, watch out '\n",
      " 'and take care! <15.76>  The movie begins in 1996 with two young lovers, '\n",
      " 'Cletus and Francis, living at a reform school <21.48>  in California. '\n",
      " '<22.66>  Their rooms are directly above each other, and they use a pipe to '\n",
      " \"communicate with one <26.240000000000002>  another. <27.24>  As Francis' \"\n",
      " 'ultrasonic power grows stronger, the school sends her to a top-secret '\n",
      " 'institute <31.799999999999997>  to lock her powers forever. <33.6>  From the '\n",
      " 'window, Cletus angrily watches as the police drag Francis into a van guarded '\n",
      " '<38.26>  by a detective. <39.72>  During the trip, Francis shouts loud '\n",
      " \"enough to damage detective's left ear. <43.68>  The van falls sideward when \"\n",
      " 'Francis tries to grab the gun from detective, but he shoots '\n",
      " '<48.239999999999995>  her first to stop her escape. <50.28>  The bullets '\n",
      " \"impact, knocks Francis onto the street, and detective thinks she's dead. \"\n",
      " '<55.0>  However, Francis wakes up the next day, but is locked up in a thick '\n",
      " 'glass cage, placed <59.16>  inside a soundproof room which is strong enough '\n",
      " 'to withstand her power. <63.019999999999996>  The psychiatrist welcomes her '\n",
      " 'arrival and introduces the institution as her new home. <67.64>  Twenty-five '\n",
      " 'years later, Francis reads the newspapers delivered by the psychiatrist, '\n",
      " '<71.84>  which states that Cletus will be convicted of death once the FBI '\n",
      " 'locates the missing <76.28>  bodies of the people he murdered. <78.2>  '\n",
      " \"Meanwhile, detective summons Eddie to the police station to tackle Cletus' \"\n",
      " 'special <82.16>  request to see him. <84.18>  Detective reckons Cletus might '\n",
      " 'reveal the location of the missing buried bodies he murdered '\n",
      " \"<88.24000000000001>  if Eddie visited him, but Eddie's reluctant to accept \"\n",
      " 'the invitation. <92.32000000000001>  Detective expects Eddie to do the right '\n",
      " 'thing, and then leaves him behind to consider the <95.96000000000001>  '\n",
      " 'invite. <96.96000000000001>  Suddenly, Venom sprouts behind Eddie, trying to '\n",
      " \"bite off detective's head, but Eddie <100.92000000000002>  quickly drags \"\n",
      " 'Venom into the bathroom. <103.32000000000001>  Eddie asks Venom to respect '\n",
      " 'his occupation, and yet Venom only wants to provoke Eddie <108.04>  again, '\n",
      " 'who fears this opportunity would blow up in his face again, just like last '\n",
      " 'time <112.34>  with Anne. <113.34>  In the end, Eddie accepts the chance to '\n",
      " 'interview Cletus in the prison. <117.04>  The next day, Eddie meets Cletus '\n",
      " 'in his cage, demanding why he wants to see him. <121.72>  Cletus knows his '\n",
      " 'story sells, so he wants Eddie to publish his little poem first, in '\n",
      " '<126.12>  exchange for his exclusive story told by himself. <129.44>  Eddie '\n",
      " 'bites the offer and writes the message that Cletus wants to share. '\n",
      " '<133.48000000000002>  Eddie then asks whom the message is for, and Cletus '\n",
      " 'simply answers to follow his request. <139.1>  Eddie is about to leave until '\n",
      " \"Venom stops him to look at the carvings in Cletus' bedroom. <143.72>  The \"\n",
      " 'room shows a cathedral, writings on a tree trunk, and a beach with crosses. '\n",
      " '<148.07999999999998>  Afterward, Eddie meets Detective outside the station '\n",
      " 'to fill in the scoop he learned from <152.48>  Cletus. <153.48>  However, '\n",
      " 'Detective thinks Eddie is joking after hearing Cletus only gave a poem. '\n",
      " '<158.07999999999998>  Nevertheless, Eddie answers he needs more time to deal '\n",
      " 'with Cletus before they actually <162.07999999999998>  obtain useful '\n",
      " 'information. <163.85999999999999>  At night, Eddie goes home, and Venom '\n",
      " \"deciphers the carvings in Cletus' cell room. <168.8>  Poem first draws on \"\n",
      " 'each paper, the cathedral, the tree beside a house, and a beach with '\n",
      " '<173.26000000000002>  crosses on the corner. <174.72>  Next, he types Rodeo '\n",
      " 'Beach on the search bar, and the beach image matches perfectly with '\n",
      " \"<179.18>  Venom's imitation of Cletus' beach carving. <181.92000000000002>  \"\n",
      " 'The following day, Eddie pinpoints the missing buried bodies at Rodeo Beach '\n",
      " 'to the police. <186.92000000000002>  After decades of searching by the '\n",
      " 'police and FBI, Eddie solved the case overnight. <191.4>\\n')\n",
      "len(awesome_text)=4095\n"
     ]
    }
   ],
   "source": [
    "import pprint\n",
    "from langchain.text_splitter import CharacterTextSplitter\n",
    "text_splitter = CharacterTextSplitter()\n",
    "\n",
    "\n",
    "with open(\"assets/movierecaps000.txt\") as f:\n",
    "    awesome_text = f.read()\n",
    "\n",
    "print(f'Sample text:\\n{pprint.pformat(awesome_text, indent=0, width=80)}')\n",
    "print(f'{len(awesome_text)=}')\n",
    "texts = text_splitter.split_text(awesome_text)"
   ]
  }
 ],
 "metadata": {
  "kernelspec": {
   "display_name": "moviegpt-lang-sum",
   "language": "python",
   "name": "python3"
  },
  "language_info": {
   "codemirror_mode": {
    "name": "ipython",
    "version": 3
   },
   "file_extension": ".py",
   "mimetype": "text/x-python",
   "name": "python",
   "nbconvert_exporter": "python",
   "pygments_lexer": "ipython3",
   "version": "3.10.10"
  },
  "orig_nbformat": 4
 },
 "nbformat": 4,
 "nbformat_minor": 2
}
